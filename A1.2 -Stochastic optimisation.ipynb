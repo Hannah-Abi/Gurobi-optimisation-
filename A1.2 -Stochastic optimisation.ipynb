{
  "cells": [
    {
      "cell_type": "markdown",
      "id": "lfqMgLELbza0",
      "metadata": {
        "id": "lfqMgLELbza0"
      },
      "source": [
        "## Assignment 1, parts d) and e)\n",
        "The text of the task can be found in the .pdf file with assignment description. The mathematical forumaltion of the problem will be presented here. Your task will be to implement this forumaltion in Python. At first, the whole forumlation will be given. Then, necessary parts will be shown at the respective parts of the code. \n",
        "\n",
        "---\n",
        "\n",
        "\n",
        "\n",
        "Let's denote $z_0^p$: initial investment in project $p$ (1 variable per project) and $z_i^p$: continue project $p$ in scenario $i$ (2 variables per project).\n",
        "\n",
        "If in implementation stage scenario i, $s_i, i \\in {1,2}$ realizes, then in implemenation result the scenarios can be either $s_1$, $s_2$ or $s_3$.\n",
        "\n",
        "Then, let's denote $ioS_0$ is the cash flow (remaining cash) after the first decision for each project, $ioS_{k}, k\\in \\{1,2,3\\}$ is the total cash flow in scenario $k$ in implementaion stage immediately after making the decision to implement or to terminate for each project and $ioS_{ij}$ is the outcome in scenario $ij$ after the implementation result scenario outcome is known.\n",
        "\n",
        "The optimisation problem can now be stated as\n",
        "\\begin{align*}\n",
        "    \\max_{z_i^p} & \\sum_{i \\in \\{1,2\\}, j \\in \\{1,2,3\\}} P(s_{ij})iOS_{ij} \\\\\n",
        "    \\text{s.t.} & \\\\\n",
        "    & ioS_0 = 9-2z_0^W - 3z_0^G \\\\\n",
        "    & ioS_1 = 1.04\\times ioS_0 - 2z_1^W - 2z_1^G \\\\\n",
        "    & ioS_2 = 1.04\\times ioS_0 - 2z_2^W - 2z_2^G \\\\\n",
        "    & ioS_{11} = 1.04\\times ioS_1 + 18z_1^W + 2z_1^G \\\\\n",
        "    & ioS_{12} = 1.04\\times ioS_1 + 14z_1^W + 3z_1^G \\\\\n",
        "    & ioS_{13} = 1.04\\times ioS_1 + 7z_1^W + 6z_1^G \\\\\n",
        "    & ioS_{21} = 1.04\\times ioS_2 + 4z_2^W + 19z_2^G \\\\\n",
        "    & ioS_{22} = 1.04\\times ioS_2 + 1.5z_2^W + 12z_2^G \\\\\n",
        "    & z_0^W \\geq z_1^W \\\\\n",
        "    & z_0^W \\geq z_2^W \\\\\n",
        "    & z_0^G \\geq z_1^G \\\\\n",
        "    & z_0^G \\geq z_2^G \\\\\n",
        "    & z_i^p \\in \\{0,1\\} \\,  \\forall i,p \\\\\n",
        "    & ioS_i \\geq 0 \\, \\forall i\n",
        "\\end{align*}\n",
        "\n"
      ]
    },
    {
      "cell_type": "code",
      "execution_count": 1,
      "id": "YXzS7zBj-f-q",
      "metadata": {
        "colab": {
          "base_uri": "https://localhost:8080/"
        },
        "id": "YXzS7zBj-f-q",
        "outputId": "5b1440d4-477c-4710-cdab-bbd129512b9a"
      },
      "outputs": [
        {
          "name": "stdout",
          "output_type": "stream",
          "text": [
            "Collecting gurobipy\n",
            "  Downloading gurobipy-9.5.2-cp310-cp310-win_amd64.whl (8.9 MB)\n",
            "     ---------------------------------------- 8.9/8.9 MB 5.6 MB/s eta 0:00:00\n",
            "Installing collected packages: gurobipy\n",
            "Successfully installed gurobipy-9.5.2\n"
          ]
        },
        {
          "name": "stderr",
          "output_type": "stream",
          "text": [
            "WARNING: You are using pip version 22.0.2; however, version 22.3.1 is available.\n",
            "You should consider upgrading via the 'C:\\Users\\phamh\\AppData\\Local\\Programs\\Python\\Python310\\python.exe -m pip install --upgrade pip' command.\n"
          ]
        }
      ],
      "source": [
        "# Install gurobipy package. These cell must be executed at every launch of Google Colab. \n",
        "# DO NOT DELETE OR MODIFY THIS CELL\n",
        "!pip install gurobipy"
      ]
    },
    {
      "cell_type": "code",
      "execution_count": null,
      "id": "offshore-tucson",
      "metadata": {
        "id": "offshore-tucson"
      },
      "outputs": [],
      "source": [
        "# Import dependencies\n",
        "# DO NOT DELETE OR MODIFY THIS CELL. \n",
        "import gurobipy as gp\n",
        "from gurobipy import GRB"
      ]
    },
    {
      "cell_type": "code",
      "execution_count": null,
      "id": "SjEyGE3W_EFN",
      "metadata": {
        "id": "SjEyGE3W_EFN"
      },
      "outputs": [],
      "source": [
        "# Initiate the model\n",
        "\n",
        "model = gp.Model(\"assignmentA1.2\")"
      ]
    },
    {
      "cell_type": "code",
      "execution_count": null,
      "id": "vPWsuSl0_E9N",
      "metadata": {
        "id": "vPWsuSl0_E9N"
      },
      "outputs": [],
      "source": [
        "# Create binary variables representing the investment decisions, six in total\n",
        "\n",
        "zW0 = model.addVar(vtype=GRB.BINARY, name=\"zW0\") #initial investment decision for project Wind(W)\n",
        "zG0 = model.addVar(vtype=GRB.BINARY, name=\"zG0\") #initical investment decision for project Geothermal(G)\n",
        "zW1 = model.addVar(vtype=GRB.BINARY, name=\"zW1\") #continue project W in scenario 1 \n",
        "zW2 = model.addVar(vtype=GRB.BINARY, name=\"zW2\") #continue project W in scenario 2\n",
        "zG1 = model.addVar(vtype=GRB.BINARY, name=\"zG1\") #continue project G in scenario 1\n",
        "zG2 = model.addVar(vtype=GRB.BINARY, name=\"zG2\") #continue project G in scenario 2"
      ]
    },
    {
      "cell_type": "code",
      "execution_count": null,
      "id": "lONb9i1CBkjP",
      "metadata": {
        "id": "lONb9i1CBkjP"
      },
      "outputs": [],
      "source": [
        "# Create real variables representing the investment outcomes, eight in total\n",
        "\n",
        "iOS0 = model.addVar(vtype=GRB.CONTINUOUS, name=\"i0SO\") #cash flow (remaining cash) after the first decision for each project\n",
        "iOS1 = model.addVar(vtype=GRB.CONTINUOUS, name=\"i0S1\") #total cash flow in scenario 1 in implementaion stage immediately after making the decision (continue or not)\n",
        "iOS2 = model.addVar(vtype=GRB.CONTINUOUS, name=\"i0S2\") #total cash flow in scenario 2 in implementaion stage immediately after making the decision (continue or not)\n",
        "iOS11 = model.addVar(vtype=GRB.CONTINUOUS, name=\"i0S11\") #the outcome in scenario 11 after the implementation result scenario outcome is known.\n",
        "iOS12 = model.addVar(vtype=GRB.CONTINUOUS, name=\"i0S12\") #the outcome in scenario 12 after the implementation result scenario outcome is known.\n",
        "iOS13 = model.addVar(vtype=GRB.CONTINUOUS, name=\"i0S13\") #the outcome in scenario 13 after the implementation result scenario outcome is known.\n",
        "iOS21 = model.addVar(vtype=GRB.CONTINUOUS, name=\"i0S21\") #the outcome in scenario 13 after the implementation result scenario outcome is known.\n",
        "iOS22 = model.addVar(vtype=GRB.CONTINUOUS, name=\"i0S22\") #the outcome in scenario 13 after the implementation result scenario outcome is known."
      ]
    },
    {
      "cell_type": "code",
      "execution_count": null,
      "id": "IL-F3teAhzDF",
      "metadata": {
        "id": "IL-F3teAhzDF"
      },
      "outputs": [],
      "source": [
        "# Define probabilities in the scenario tree\n",
        "P1 = 0.5\n",
        "P2 = 0.5\n",
        "\n",
        "P11 = P1*0.4\n",
        "P12 = P1*0.2\n",
        "P13 = P1*0.4\n",
        "\n",
        "P21 = P2*0.3\n",
        "P22 = P2*0.7"
      ]
    },
    {
      "cell_type": "code",
      "execution_count": null,
      "id": "iycIVSVph0Uj",
      "metadata": {
        "id": "iycIVSVph0Uj"
      },
      "outputs": [],
      "source": [
        "# Define interest\n",
        "r = 1.04"
      ]
    },
    {
      "cell_type": "code",
      "execution_count": null,
      "id": "oPNdkFLZh34_",
      "metadata": {
        "id": "oPNdkFLZh34_"
      },
      "outputs": [],
      "source": [
        "# Define cash flows for different outcomes\n",
        "cfWs11 = 18\n",
        "cfWs12 = 14\n",
        "cfWs13 = 7\n",
        "\n",
        "cfWs21 = 4\n",
        "cfWs22 = 1.5\n",
        "\n",
        "cfGs11 = 2\n",
        "cfGs12 = 3\n",
        "cfGs13 = 6\n",
        "\n",
        "cfGs21 = 19\n",
        "cfGs22 = 12"
      ]
    },
    {
      "cell_type": "code",
      "execution_count": null,
      "id": "DUqrIi7NiikV",
      "metadata": {
        "id": "DUqrIi7NiikV"
      },
      "outputs": [],
      "source": [
        "# Define initial investments at evaluation stage\n",
        "#iEW = 2\n",
        "iEW = 1.5 #for task E\n",
        "#iEG = 3\n",
        "iEG = 2 #for task E\n",
        "# Define initial investments at imlementation stage\n",
        "#iIW = 2\n",
        "iIW = 3.5 #for task E\n",
        "iIG = 2\n",
        "\n",
        "# Define allocated for investments\n",
        "totalInv = 9"
      ]
    },
    {
      "cell_type": "markdown",
      "id": "TteRkXtukJv1",
      "metadata": {
        "id": "TteRkXtukJv1"
      },
      "source": [
        "Let's set the objective function\n",
        "\\begin{align}\n",
        "    \\max_{z_i^p} & \\sum_{i \\in \\{1,2\\}, j \\in \\{1,2,3\\}} P(s_{ij})iOS_{ij} \\\\\n",
        "\\end{align}"
      ]
    },
    {
      "cell_type": "code",
      "execution_count": null,
      "id": "iGxRAx_6jrE7",
      "metadata": {
        "id": "iGxRAx_6jrE7"
      },
      "outputs": [],
      "source": [
        "# Set an objective function, don't forget to mention the type of problem (minimization/maximization)\n",
        "model.setObjective(P11*iOS11 + P12*iOS12 + P13*iOS13 + P21*iOS21 + P22*iOS22, GRB.MAXIMIZE)"
      ]
    },
    {
      "cell_type": "markdown",
      "id": "9gUhCOHjkqB2",
      "metadata": {
        "id": "9gUhCOHjkqB2"
      },
      "source": [
        "Let's add the constrain for the outcome in evaluation stage\n",
        "\\begin{align*}\n",
        "    & ioS_0 = 9-2z_0^W - 3z_0^G \\\\\n",
        "\\end{align*}"
      ]
    },
    {
      "cell_type": "code",
      "execution_count": null,
      "id": "BIeBeNGqkpl-",
      "metadata": {
        "colab": {
          "base_uri": "https://localhost:8080/"
        },
        "id": "BIeBeNGqkpl-",
        "outputId": "d071bce8-44f7-4810-f90d-8efcd097bbc8"
      },
      "outputs": [
        {
          "data": {
            "text/plain": [
              "<gurobi.Constr *Awaiting Model Update*>"
            ]
          },
          "execution_count": 90,
          "metadata": {},
          "output_type": "execute_result"
        }
      ],
      "source": [
        "# Calculate the outcome in the evaluation stage and add it as a constrain\n",
        "model.addConstr(iOS0 == totalInv-iEW*zW0-iEG*zG0)"
      ]
    },
    {
      "cell_type": "markdown",
      "id": "aMwXPRV0la3_",
      "metadata": {
        "id": "aMwXPRV0la3_"
      },
      "source": [
        "Let's add the constrain for the outcomes in implementation stage\n",
        "\\begin{align*}\n",
        "    & ioS_1 = 1.04\\times ioS_0 - 2z_1^W - 2z_1^G \\\\\n",
        "    & ioS_2 = 1.04\\times ioS_0 - 2z_2^W - 2z_2^G \\\\\n",
        "    & ioS_i \\geq 0 \\, \\forall i\n",
        "\\end{align*}"
      ]
    },
    {
      "cell_type": "code",
      "execution_count": null,
      "id": "4EjGDwmkle37",
      "metadata": {
        "colab": {
          "base_uri": "https://localhost:8080/"
        },
        "id": "4EjGDwmkle37",
        "outputId": "3db64849-9411-4be0-cec0-c18d997ccdd6"
      },
      "outputs": [
        {
          "data": {
            "text/plain": [
              "<gurobi.Constr *Awaiting Model Update*>"
            ]
          },
          "execution_count": 91,
          "metadata": {},
          "output_type": "execute_result"
        }
      ],
      "source": [
        "# Calculate outcomes in the implementation stage and add them as constrains\n",
        "\n",
        "model.addConstr(iOS1 == r*iOS0 - iIW*zW1 - iIG*zG1)\n",
        "model.addConstr(iOS2 == r*iOS0 - iIW*zW2 - iIG*zG2)\n",
        "#model.addConstr(iOS)"
      ]
    },
    {
      "cell_type": "markdown",
      "id": "ybmMgSk_lpHx",
      "metadata": {
        "id": "ybmMgSk_lpHx"
      },
      "source": [
        "Let's add the constrain for the outcomes after implementation stage\n",
        "\\begin{align*}\n",
        "    & ioS_{11} = 1.04\\times ioS_1 + 18z_1^W + 2z_1^G \\\\\n",
        "    & ioS_{12} = 1.04\\times ioS_1 + 14z_1^W + 3z_1^G \\\\\n",
        "    & ioS_{13} = 1.04\\times ioS_1 + 7z_1^W + 6z_1^G \\\\\n",
        "    & ioS_{21} = 1.04\\times ioS_2 + 4z_2^W + 19z_2^G \\\\\n",
        "    & ioS_{22} = 1.04\\times ioS_2 + 1.5z_2^W + 12z_2^G \\\\\n",
        "\\end{align*}"
      ]
    },
    {
      "cell_type": "code",
      "execution_count": null,
      "id": "VbeNQEfbljgI",
      "metadata": {
        "colab": {
          "base_uri": "https://localhost:8080/"
        },
        "id": "VbeNQEfbljgI",
        "outputId": "4d9eb813-7dfb-46cd-e6db-cd8000e6a0f6"
      },
      "outputs": [
        {
          "data": {
            "text/plain": [
              "<gurobi.Constr *Awaiting Model Update*>"
            ]
          },
          "execution_count": 92,
          "metadata": {},
          "output_type": "execute_result"
        }
      ],
      "source": [
        "# Calculate outcomes after the implementation stage using cash flows for different scenarios and add them as constrains\n",
        "\n",
        "# Constraints for the scenario s1 \n",
        "model.addConstr(iOS11 == r*iOS1 + cfWs11*zW1 + cfGs11*zG1)\n",
        "model.addConstr(iOS12 == r*iOS1 + cfWs12*zW1 + cfGs12*zG1)\n",
        "model.addConstr(iOS13 == r*iOS1 + cfWs13*zW1 + cfGs13*zG1)\n",
        "# Constraints doe the scenario s2\n",
        "model.addConstr(iOS21 == r*iOS2 + cfWs21*zW2 + cfGs21*zG2)\n",
        "model.addConstr(iOS22 == r*iOS2 + cfWs22*zW2 + cfGs22*zG2)"
      ]
    },
    {
      "cell_type": "markdown",
      "id": "L7m7c6TZlpv1",
      "metadata": {
        "id": "L7m7c6TZlpv1"
      },
      "source": [
        "Let's add consistency constraints for decisions\n",
        "\\begin{align*}\n",
        "    & z_0^W \\geq z_1^W \\\\\n",
        "    & z_0^W \\geq z_2^W \\\\\n",
        "    & z_0^G \\geq z_1^G \\\\\n",
        "    & z_0^G \\geq z_2^G \\\\\n",
        "\\end{align*}"
      ]
    },
    {
      "cell_type": "code",
      "execution_count": null,
      "id": "7NgbeumzlmN-",
      "metadata": {
        "colab": {
          "base_uri": "https://localhost:8080/"
        },
        "id": "7NgbeumzlmN-",
        "outputId": "0f957c8e-1b92-4435-af4b-b665addcb2a4"
      },
      "outputs": [
        {
          "data": {
            "text/plain": [
              "<gurobi.Constr *Awaiting Model Update*>"
            ]
          },
          "execution_count": 93,
          "metadata": {},
          "output_type": "execute_result"
        }
      ],
      "source": [
        "# Add consistency constraints for decisions\n",
        "# model.addConstr(...)\n",
        "\n",
        "model.addConstr(zW0 >= zW1)\n",
        "model.addConstr(zW0 >= zW2)\n",
        "model.addConstr(zG0 >= zG1)\n",
        "model.addConstr(zG0 >= zG2)"
      ]
    },
    {
      "cell_type": "code",
      "execution_count": null,
      "id": "random-evanescence",
      "metadata": {
        "colab": {
          "base_uri": "https://localhost:8080/"
        },
        "id": "random-evanescence",
        "outputId": "95290ee6-ff7e-4238-c25c-751f2cfa9aec"
      },
      "outputs": [
        {
          "name": "stdout",
          "output_type": "stream",
          "text": [
            "Gurobi Optimizer version 9.5.2 build v9.5.2rc0 (linux64)\n",
            "Thread count: 1 physical cores, 2 logical processors, using up to 2 threads\n",
            "Optimize a model with 12 rows, 14 columns and 39 nonzeros\n",
            "Model fingerprint: 0x3f325fdb\n",
            "Variable types: 8 continuous, 6 integer (6 binary)\n",
            "Coefficient statistics:\n",
            "  Matrix range     [1e+00, 2e+01]\n",
            "  Objective range  [1e-01, 3e-01]\n",
            "  Bounds range     [1e+00, 1e+00]\n",
            "  RHS range        [9e+00, 9e+00]\n",
            "Presolve removed 12 rows and 14 columns\n",
            "Presolve time: 0.00s\n",
            "Presolve: All rows and columns removed\n",
            "\n",
            "Explored 0 nodes (0 simplex iterations) in 0.02 seconds (0.00 work units)\n",
            "Thread count was 1 (of 2 available processors)\n",
            "\n",
            "Solution count 1: 17.3988 \n",
            "\n",
            "Optimal solution found (tolerance 1.00e-04)\n",
            "Best objective 1.739880000000e+01, best bound 1.739880000000e+01, gap 0.0000%\n"
          ]
        }
      ],
      "source": [
        "# Optimize the model\n",
        "\n",
        "model.optimize()"
      ]
    },
    {
      "cell_type": "code",
      "execution_count": null,
      "id": "starting-integral",
      "metadata": {
        "colab": {
          "base_uri": "https://localhost:8080/"
        },
        "id": "starting-integral",
        "outputId": "4f56fcd1-e7cc-438b-9f83-ccb7a7fd4f39"
      },
      "outputs": [
        {
          "name": "stdout",
          "output_type": "stream",
          "text": [
            "zW0 = 1\n",
            "zG0 = 1\n",
            "zW1 = 1\n",
            "zW2 = 0\n",
            "zG1 = 1\n",
            "zG2 = 1\n",
            "i0SO = 5.5\n",
            "i0S1 = 0.22\n",
            "i0S2 = 3.72\n",
            "i0S11 = 20.2288\n",
            "i0S12 = 17.2288\n",
            "i0S13 = 13.2288\n",
            "i0S21 = 22.8688\n",
            "i0S22 = 15.8688\n"
          ]
        }
      ],
      "source": [
        "# Print out solutions, first 6 are decisions, next is evaluation outcome, next 2 are implementation outcomes and last 5 are for implementation result outcomes\n",
        "\n",
        "for v in model.getVars():\n",
        "  print('%s = %g' % (v.varName, v.x))\n"
      ]
    },
    {
      "cell_type": "code",
      "execution_count": null,
      "id": "RpuAy8Qr0i7u",
      "metadata": {
        "colab": {
          "base_uri": "https://localhost:8080/"
        },
        "id": "RpuAy8Qr0i7u",
        "outputId": "02a72c4a-baf1-4974-bad2-0b720335d61a"
      },
      "outputs": [
        {
          "name": "stdout",
          "output_type": "stream",
          "text": [
            "Obj: 17.3988\n"
          ]
        }
      ],
      "source": [
        "# Print out the expected cash flow from the project (the value of objective function). We do not take into account the time value of money. \n",
        "\n",
        "print('Obj: %g' % model.objVal)"
      ]
    }
  ],
  "metadata": {
    "colab": {
      "collapsed_sections": [],
      "provenance": []
    },
    "kernelspec": {
      "display_name": "Python 3.10.0 64-bit",
      "language": "python",
      "name": "python3"
    },
    "language_info": {
      "codemirror_mode": {
        "name": "ipython",
        "version": 3
      },
      "file_extension": ".py",
      "mimetype": "text/x-python",
      "name": "python",
      "nbconvert_exporter": "python",
      "pygments_lexer": "ipython3",
      "version": "3.10.0"
    },
    "vscode": {
      "interpreter": {
        "hash": "d6e667439426deb4459fb2679732da2175be5cec9edd9a5c8ca81391539ed1db"
      }
    }
  },
  "nbformat": 4,
  "nbformat_minor": 5
}
